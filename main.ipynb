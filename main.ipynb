{
 "cells": [
  {
   "cell_type": "markdown",
   "metadata": {},
   "source": [
    "# Smart meters using Semi Quantum Key Distribution"
   ]
  },
  {
   "cell_type": "code",
   "execution_count": 88,
   "metadata": {},
   "outputs": [],
   "source": [
    "import os\n",
    "from qiskit import *\n",
    "import math\n",
    "import numpy as np\n",
    "import random"
   ]
  },
  {
   "cell_type": "code",
   "execution_count": 89,
   "metadata": {},
   "outputs": [],
   "source": [
    "simulator = Aer.get_backend('qasm_simulator')"
   ]
  },
  {
   "cell_type": "markdown",
   "metadata": {},
   "source": [
    "## File handling"
   ]
  },
  {
   "cell_type": "code",
   "execution_count": 90,
   "metadata": {},
   "outputs": [],
   "source": [
    "# path to control centre and edge node database\n",
    "cc_en_db_path = './database/control_center_edge_node_database.txt'\n",
    "\n",
    "# path to control centre and smart meter database\n",
    "cc_sm_db_path = './database/control_center_smart_meter_database.txt'"
   ]
  },
  {
   "cell_type": "code",
   "execution_count": 91,
   "metadata": {},
   "outputs": [],
   "source": [
    "def addNewDevice(file_path, devicename=None, password=None):\n",
    "    '''\n",
    "    file_path(str): path to file on which username and password are stored\n",
    "    devicename(str): devicename of the new device\n",
    "    password(str): password of the new device\n",
    "    '''\n",
    "\n",
    "    if file_path == None:\n",
    "        return \"File path None\"\n",
    "    \n",
    "    if devicename == None:\n",
    "        return \"Username None\"\n",
    "\n",
    "    if password == None:\n",
    "        return \"Password None\"\n",
    "\n",
    "    with open(file_path, \"a\") as file:\n",
    "        file.write(f'{devicename}:{password}\\n')\n",
    "    return \"Successfully registered\""
   ]
  },
  {
   "cell_type": "code",
   "execution_count": 92,
   "metadata": {},
   "outputs": [],
   "source": [
    "def loginDevice(file_path, devicename, password):\n",
    "    '''\n",
    "    file_path(str): path to file on which username and password are stored\n",
    "    devicename(str): devicename of the device\n",
    "    password(str): password of the device\n",
    "\n",
    "    return bool: True if user is authenticated else False\n",
    "    '''\n",
    "\n",
    "    if devicename == None or password == None or file_path == None:\n",
    "        return False\n",
    "\n",
    "    with open(file_path, \"r\") as file:\n",
    "        for device in file.read().split('\\n')[:-1]:\n",
    "            [_devicename, _password] = device.split(':')\n",
    "            if devicename == _devicename and password == _password:\n",
    "                return True\n",
    "    return False"
   ]
  },
  {
   "cell_type": "markdown",
   "metadata": {},
   "source": [
    "## SQKD"
   ]
  },
  {
   "cell_type": "code",
   "execution_count": 93,
   "metadata": {},
   "outputs": [],
   "source": [
    "# size of the key\n",
    "n = 2\n",
    "\n",
    "# dictionary to store secret keys\n",
    "secret_keys = {}\n",
    "\n",
    "# delta parameter for sqkd\n",
    "delta = 1/8\n",
    "\n",
    "# (Z-)error threshold for CTRL\n",
    "p_ctrl = 0.2\n",
    "\n",
    "# (Z-)error threshold for SIFT\n",
    "p_test = 0.2"
   ]
  },
  {
   "cell_type": "code",
   "execution_count": 94,
   "metadata": {},
   "outputs": [],
   "source": [
    "def encodeSQKD(basis, message_bit, circuit, idx):\n",
    "\t'''\n",
    "\tbasis(int): defines what basis is the message encode. 0 (Computational) and 1 (Hadamard)\n",
    "\tmessage_bit (int):\n",
    "    0 is encoded as |0> or |+>\n",
    "    1 is encoded as |1> or |->\n",
    "    circuit(QuantumCircuit): the circuit used for communication\n",
    "    idx(int): index of the message_bit\n",
    "\t'''\n",
    "\tif message_bit == 1:\n",
    "\t\tcircuit.x(idx)\n",
    "\tif basis == 1:\n",
    "\t\tcircuit.h(idx)\n",
    "\treturn circuit"
   ]
  },
  {
   "cell_type": "code",
   "execution_count": 95,
   "metadata": {},
   "outputs": [],
   "source": [
    "# def sift(decesion, circuit, idx):\n",
    "# \t'''\n",
    "# \tdecesion(int): 0 (CTRL) and 1 (SIFT)\n",
    "#     circuit(QuantumCircuit): the circuit used for communication\n",
    "#     idx(int): index of the message_bit\n",
    "# \t'''\n",
    "# \tif decesion == 1:\n",
    "# \t\tcircuit.measure(idx, idx)\n",
    "# \treturn circuit"
   ]
  },
  {
   "cell_type": "code",
   "execution_count": 102,
   "metadata": {},
   "outputs": [],
   "source": [
    "def sqkd(device, devicename):\n",
    "    '''\n",
    "    device(str): \"SMART_METER\" or \"EDGE_NODE\"\n",
    "    devicename(str): name of device\n",
    "    '''\n",
    "\n",
    "    ########### debug #################\n",
    "    # not_my_data = set(dir())\n",
    "    ###################################\n",
    "\n",
    "    # number of bits to be set to device\n",
    "    N = math.ceil(8*n*(1+delta))\n",
    "\n",
    "    # generate a message for sqkd (binary array)\n",
    "    message = np.random.randint(2, size=N)\n",
    "\n",
    "    # generate basis for encoding qubits by control center (alice)\n",
    "    cc_basis = np.random.randint(2, size=N)\n",
    "\n",
    "    # circuit for sending data to device\n",
    "    circuit = QuantumCircuit(N, N)\n",
    "\n",
    "    for (idx, (basis, message_bit)) in enumerate(zip(cc_basis, message)):\n",
    "        circuit = encodeSQKD(basis, message_bit, circuit, idx)\n",
    "\n",
    "    # device basis for SIFT or CTRL\n",
    "    device_decisions = np.random.randint(2, size=N)\n",
    "\n",
    "    # get the reflected (CTRL) and measured (SIFT) qubits\n",
    "\n",
    "    ctrl_qubits = []\n",
    "\n",
    "    for (idx, decesion) in enumerate(device_decisions):\n",
    "        if decesion == 0:\n",
    "            ctrl_qubits.append(idx)\n",
    "\n",
    "    sift_qubits = []\n",
    "\n",
    "    for (idx, decesion) in enumerate(device_decisions):\n",
    "        if decesion == 1:\n",
    "            sift_qubits.append(idx)\n",
    "\n",
    "    # SIFT by device\n",
    "\n",
    "    for idx in sift_qubits:\n",
    "        circuit.measure(idx, idx)\n",
    "\n",
    "    # measurement of reflected qubits by device\n",
    "\n",
    "    result_device = execute(circuit, backend=simulator, shots=1).result()\n",
    "    count_device = result_device.get_counts(circuit)\n",
    "\n",
    "    device_measured_value = list(count_device.keys())[0]\n",
    "\n",
    "    print(device_measured_value)\n",
    "\n",
    "    ######### PENDING ####################\n",
    "    # reorder the reflected (CTRL) qubits\n",
    "\n",
    "    ###################################\n",
    "\n",
    "    # measurement of reflected qubits by control centre\n",
    "\n",
    "    for idx in ctrl_qubits:\n",
    "        circuit.measure(idx, idx)\n",
    "\n",
    "    result_ctrl = execute(circuit, backend=simulator, shots=1).result()\n",
    "    count_ctrl = result_ctrl.get_counts(circuit)\n",
    "\n",
    "    ctrl_measured_value = list(count_ctrl.keys())[0]\n",
    "\n",
    "    print(ctrl_measured_value)\n",
    "\n",
    "    # calculating z error for ctrl\n",
    "\n",
    "    z_error_ctrl = 0\n",
    "\n",
    "    for idx in ctrl_qubits:\n",
    "        if cc_basis[idx] == 0 and message[idx] != int(ctrl_measured_value[idx]):\n",
    "            z_error_ctrl += 1\n",
    "\n",
    "    print(f'{z_error_ctrl/len(ctrl_qubits)=}')\n",
    "\n",
    "    if z_error_ctrl/len(ctrl_qubits) < p_ctrl:\n",
    "\n",
    "        # select n random sift bits as test bits\n",
    "\n",
    "        test_bits = set(random.choices(sift_qubits, k=n))\n",
    "\n",
    "        # defining remaning string\n",
    "\n",
    "        v = []\n",
    "\n",
    "        for idx in sift_qubits:\n",
    "            if idx in test_bits:\n",
    "                v.append(idx)\n",
    "\n",
    "        # calculating z error for sift\n",
    "\n",
    "        z_error_test = 0\n",
    "\n",
    "        for idx in test_bits:\n",
    "            if int(device_measured_value[idx]) != int(ctrl_measured_value[idx]):\n",
    "                z_error_test += 1\n",
    "\n",
    "        print(f'{z_error_test/len(test_bits)=}')\n",
    "\n",
    "        if z_error_test/len(test_bits) < p_test:\n",
    "\n",
    "            sk_bits = v[:8]\n",
    "\n",
    "            sk = \"\"\n",
    "\n",
    "            for idx in sk_bits:\n",
    "                sk += device_measured_value[idx]\n",
    "\n",
    "            ######## SAVE IN FILE ###############\n",
    "\n",
    "            file_path = None\n",
    "\n",
    "            if device == \"SMART_METER\":\n",
    "                file_path = cc_sm_db_path\n",
    "\n",
    "            if device == \"EDGE_NODE\":\n",
    "                file_path = cc_en_db_path\n",
    "\n",
    "            addNewDevice(file_path, devicename, sk)\n",
    "\n",
    "            print(\"SECRET KEY SAVED\")\n",
    "\n",
    "            return\n",
    "    \n",
    "    print(\"SQKD FAILED\")\n",
    "    ########### debug #################\n",
    "    # my_data = set(dir()) - not_my_data\n",
    "    # for name in my_data:\n",
    "    #     if name != \"not_my_data\":\n",
    "    #         val = eval(name)\n",
    "    #         print(name, \"is\", type(val), \"and is equal to \", val)\n",
    "    ###################################"
   ]
  },
  {
   "cell_type": "markdown",
   "metadata": {},
   "source": [
    "## Test cells"
   ]
  },
  {
   "cell_type": "markdown",
   "metadata": {},
   "source": [
    "### Add Smart Meter"
   ]
  },
  {
   "cell_type": "code",
   "execution_count": 97,
   "metadata": {},
   "outputs": [
    {
     "data": {
      "text/plain": [
       "'Successfully registered'"
      ]
     },
     "execution_count": 97,
     "metadata": {},
     "output_type": "execute_result"
    }
   ],
   "source": [
    "smart_meter_devicename = \"sm1\"\n",
    "smart_meter_password = \"pass1\""
   ]
  },
  {
   "cell_type": "markdown",
   "metadata": {},
   "source": [
    "### Verify Smart Meter"
   ]
  },
  {
   "cell_type": "code",
   "execution_count": 98,
   "metadata": {},
   "outputs": [],
   "source": [
    "smart_meter_devicename = \"sm1\"\n",
    "smart_meter_password = \"pass1\""
   ]
  },
  {
   "cell_type": "code",
   "execution_count": 111,
   "metadata": {},
   "outputs": [
    {
     "name": "stdout",
     "output_type": "stream",
     "text": [
      "000111011001000000\n",
      "001111011111000101\n",
      "z_error_ctrl/len(ctrl_qubits)=0.125\n",
      "z_error_test/len(test_bits)=0.0\n"
     ]
    }
   ],
   "source": [
    "sqkd(\"SMART_METER\", smart_meter_devicename)"
   ]
  },
  {
   "cell_type": "markdown",
   "metadata": {},
   "source": [
    "### Add Edge Node"
   ]
  },
  {
   "cell_type": "code",
   "execution_count": 100,
   "metadata": {},
   "outputs": [],
   "source": [
    "edge_node_devicename = \"en1\"\n",
    "edge_node_password = \"pass2\""
   ]
  },
  {
   "cell_type": "markdown",
   "metadata": {},
   "source": [
    "### Verify Edge Node"
   ]
  },
  {
   "cell_type": "code",
   "execution_count": 101,
   "metadata": {},
   "outputs": [],
   "source": [
    "edge_node_devicename = \"en1\"\n",
    "edge_node_password = \"pass2\""
   ]
  }
 ],
 "metadata": {
  "kernelspec": {
   "display_name": ".venv",
   "language": "python",
   "name": "python3"
  },
  "language_info": {
   "codemirror_mode": {
    "name": "ipython",
    "version": 3
   },
   "file_extension": ".py",
   "mimetype": "text/x-python",
   "name": "python",
   "nbconvert_exporter": "python",
   "pygments_lexer": "ipython3",
   "version": "3.9.13"
  },
  "orig_nbformat": 4
 },
 "nbformat": 4,
 "nbformat_minor": 2
}
