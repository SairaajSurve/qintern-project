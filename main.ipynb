{
 "cells": [
  {
   "cell_type": "markdown",
   "metadata": {},
   "source": [
    "# Smart meters using Semi Quantum Key Distribution"
   ]
  },
  {
   "cell_type": "code",
   "execution_count": 6,
   "metadata": {},
   "outputs": [],
   "source": [
    "from qiskit import *\n",
    "import math\n",
    "import numpy as np\n",
    "import hashlib\n",
    "import hmac\n",
    "import time\n",
    "import json"
   ]
  },
  {
   "cell_type": "code",
   "execution_count": 7,
   "metadata": {},
   "outputs": [],
   "source": [
    "simulator = Aer.get_backend('qasm_simulator')"
   ]
  },
  {
   "cell_type": "markdown",
   "metadata": {},
   "source": [
    "Variable definition"
   ]
  },
  {
   "cell_type": "code",
   "execution_count": 8,
   "metadata": {},
   "outputs": [],
   "source": [
    "# size of INFO BITS for sqkd\n",
    "n = 4\n",
    "\n",
    "# delta parameter for sqkd\n",
    "delta = 1/8\n",
    "\n",
    "# (Z-)error threshold for CTRL for sqkd\n",
    "p_ctrl = 0.5\n",
    "\n",
    "# (Z-)error threshold for SIFT for sqkd\n",
    "p_test = 0.5\n",
    "\n",
    "# path to control centre and nan database\n",
    "cc_nan_db_path = './database/control_center_nan_database.txt'\n",
    "\n",
    "# path to control centre and smart meter database\n",
    "cc_sm_db_path = './database/control_center_smart_meter_database.txt'"
   ]
  },
  {
   "cell_type": "markdown",
   "metadata": {},
   "source": [
    "## File handling"
   ]
  },
  {
   "cell_type": "markdown",
   "metadata": {},
   "source": [
    "## Helper functions"
   ]
  },
  {
   "cell_type": "markdown",
   "metadata": {},
   "source": [
    "Function to add NAN gateway"
   ]
  },
  {
   "cell_type": "code",
   "execution_count": 9,
   "metadata": {},
   "outputs": [],
   "source": [
    "def addNewNAN(NanName, Inan, SharedKey):\n",
    "    '''\n",
    "    NanName(string): Name of NAN gateway\n",
    "    Inan (string): Identity of NAN\n",
    "    SharedKey(string): Shared secret key\n",
    "    '''\n",
    "    # Check if both parameters are passed\n",
    "    if Inan == None or SharedKey == None:\n",
    "        print(f\"NAN addition failed:{Inan=}:{SharedKey=}\")\n",
    "        return False\n",
    "    \n",
    "    # Check if NAN identity exists\n",
    "    with open(cc_nan_db_path, \"r\") as file:\n",
    "        for row in file.read().split('\\n')[:-1]:\n",
    "            [_Inan, _SharedKey, _NanName] = row.split(':')\n",
    "            if _Inan == Inan:\n",
    "                print(f\"NAN addition failed:{Inan=} already exists\")\n",
    "    \n",
    "    # Add new NAN\n",
    "\n",
    "    with open(cc_nan_db_path, \"a\") as file:\n",
    "        file.write(f'{Inan}:{SharedKey}:{NanName}\\n')\n",
    "    return True"
   ]
  },
  {
   "cell_type": "markdown",
   "metadata": {},
   "source": [
    "Function to add Smart Meter"
   ]
  },
  {
   "cell_type": "code",
   "execution_count": 10,
   "metadata": {},
   "outputs": [],
   "source": [
    "def addNewSM(SMName, Ism, SharedKey):\n",
    "    '''\n",
    "    SMName(string): Name of SM\n",
    "    Ism (string): Identity of SM\n",
    "    SharedKey(string): Shared secret key\n",
    "    '''\n",
    "    # Check if both parameters are passed\n",
    "    if Ism == None or SharedKey == None:\n",
    "        print(f\"SM addition failed:{Ism=}:{SharedKey=}\")\n",
    "        return False\n",
    "    \n",
    "    # Check if SM identity exists\n",
    "    with open(cc_sm_db_path, \"r\") as file:\n",
    "        for row in file.read().split('\\n')[:-1]:\n",
    "            [_Ism, _Iencsm, _SharedKey, _SMName] = row.split(':')\n",
    "            if _Ism == Ism:\n",
    "                print(f\"SM addition failed:{Ism=} already exists\")\n",
    "    \n",
    "    # Generate Iencsm\n",
    "\n",
    "    biometric = np.random.randint(2, size=len(Ism))\n",
    "\n",
    "    Iencsm = \"\"\n",
    "\n",
    "    for i in range(len(Ism)):\n",
    "        Iencsm += str(int(biometric[i])^(not int(Ism[i])))\n",
    "\n",
    "    # Add new SM\n",
    "\n",
    "    with open(cc_sm_db_path, \"a\") as file:\n",
    "        file.write(f'{Ism}:{Iencsm}:{SharedKey}:{SMName}\\n')\n",
    "    \n",
    "    return True"
   ]
  },
  {
   "cell_type": "markdown",
   "metadata": {},
   "source": [
    "Function to get data of Smart Meter"
   ]
  },
  {
   "cell_type": "code",
   "execution_count": 11,
   "metadata": {},
   "outputs": [],
   "source": [
    "def getSM(SMname):\n",
    "    '''\n",
    "    SMname(str): name of smart meter\n",
    "    '''\n",
    "\n",
    "    with open(cc_sm_db_path, \"r\") as file:\n",
    "        for row in file.read().split('\\n')[:-1]:\n",
    "            [_Ism, _Iencsm, _SharedKey, _SMName] = row.split(':')\n",
    "            if _SMName == SMname:\n",
    "                return (_Ism, _Iencsm, _SharedKey, _SMName)\n",
    "    print(\"Failed to get SM\")\n",
    "    return (None, None, None, None)"
   ]
  },
  {
   "cell_type": "markdown",
   "metadata": {},
   "source": [
    "Function to get data of NAN gateway"
   ]
  },
  {
   "cell_type": "code",
   "execution_count": 12,
   "metadata": {},
   "outputs": [],
   "source": [
    "def getNAN(NANname):\n",
    "    '''\n",
    "    NANname(str): name of NAN gateway\n",
    "    '''\n",
    "    with open(cc_nan_db_path, \"r\") as file:\n",
    "        for row in file.read().split('\\n')[:-1]:\n",
    "            [_Inan,  _SharedKey, _NANname] = row.split(':')\n",
    "            if _NANname == NANname:\n",
    "                return (_Inan, _SharedKey, _NANname)\n",
    "    print(\"Failed to get NAN\")\n",
    "    return (None, None, None)"
   ]
  },
  {
   "cell_type": "markdown",
   "metadata": {},
   "source": [
    "## Phase 1"
   ]
  },
  {
   "cell_type": "code",
   "execution_count": 13,
   "metadata": {},
   "outputs": [],
   "source": [
    "# size of INFO BITS for sqkd\n",
    "n = 4\n",
    "\n",
    "# delta parameter for sqkd\n",
    "delta = 1/8\n",
    "\n",
    "# (Z-)error threshold for CTRL for sqkd\n",
    "p_ctrl = 0.5\n",
    "\n",
    "# (Z-)error threshold for SIFT for sqkd\n",
    "p_test = 0.5"
   ]
  },
  {
   "cell_type": "markdown",
   "metadata": {},
   "source": [
    "Function for encoding bits in 0/1 or +/- state for sqkd"
   ]
  },
  {
   "cell_type": "code",
   "execution_count": 14,
   "metadata": {},
   "outputs": [],
   "source": [
    "def encodeSQKD(basis, message_bit, circuit, idx):\n",
    "\t'''\n",
    "\tbasis(int): defines what basis is the message encode. 0 (Computational) and 1 (Hadamard)\n",
    "\tmessage_bit (int):\n",
    "    0 is encoded as |0> or |+>\n",
    "    1 is encoded as |1> or |->\n",
    "    circuit(QuantumCircuit): the circuit used for communication\n",
    "    idx(int): index of the message_bit\n",
    "\t'''\n",
    "\tif message_bit == 1:\n",
    "\t\tcircuit.x(idx)\n",
    "\tif basis == 1:\n",
    "\t\tcircuit.h(idx)\n",
    "\treturn circuit"
   ]
  },
  {
   "cell_type": "markdown",
   "metadata": {},
   "source": [
    "Function for performing SQKD dnd registering new device"
   ]
  },
  {
   "cell_type": "code",
   "execution_count": 15,
   "metadata": {},
   "outputs": [],
   "source": [
    "def sqkd(device, devicename):\n",
    "    '''\n",
    "    device(str): \"SM\" or \"NAN\"\n",
    "    devicename(str): name of device\n",
    "\n",
    "    Saves data in database if SQKD is successfull\n",
    "    \n",
    "    return bool: True if SQKD is successfull else False\n",
    "    '''\n",
    "\n",
    "    # number of bits to be set to device\n",
    "    N = math.ceil(8*n*(1+delta))\n",
    "\n",
    "    # generate a message for sqkd (binary array)\n",
    "    message = np.random.randint(2, size=N)\n",
    "    print(f'{message=}')\n",
    "\n",
    "    # generate basis for encoding qubits by control center (quantum)\n",
    "    cc_basis = np.random.randint(2, size=N)\n",
    "    print(f'{cc_basis=}')\n",
    "\n",
    "    # circuit for sending data to device\n",
    "    circuit = QuantumCircuit(N, N)\n",
    "\n",
    "    for (idx, (basis, message_bit)) in enumerate(zip(cc_basis, message)):\n",
    "        circuit = encodeSQKD(basis, message_bit, circuit, idx)\n",
    "\n",
    "    circuit.barrier()\n",
    "\n",
    "    # device basis for SIFT or CTRL\n",
    "    device_decisions = np.random.randint(2, size=N)\n",
    "    print(f'{device_decisions=}')\n",
    "\n",
    "    # get the reflected (CTRL) and measured (SIFT) qubits\n",
    "\n",
    "    ctrl_qubits = []\n",
    "\n",
    "    for (idx, decesion) in enumerate(device_decisions):\n",
    "        if decesion == 0:\n",
    "            ctrl_qubits.append(idx)\n",
    "\n",
    "    print(f'{ctrl_qubits=}')\n",
    "    sift_qubits = []\n",
    "\n",
    "    for (idx, decesion) in enumerate(device_decisions):\n",
    "        if decesion == 1:\n",
    "            sift_qubits.append(idx)\n",
    "\n",
    "    print(f'{sift_qubits=}')\n",
    "\n",
    "    z_sift = [sift_qubits[i] for i in range(len(sift_qubits)) if cc_basis[sift_qubits[i]] == 0]\n",
    "\n",
    "    print(f'{z_sift=}')\n",
    "    \n",
    "    # SIFT by device\n",
    "\n",
    "    for idx in sift_qubits:\n",
    "        circuit.measure(idx, idx)\n",
    "    \n",
    "    # measurement of sifted qubits by device\n",
    "\n",
    "    result_device = execute(circuit, backend=simulator, shots=1).result()\n",
    "    count_device = result_device.get_counts(circuit)\n",
    "\n",
    "    device_measured_value = list(count_device.keys())[0][::-1]\n",
    "    \n",
    "    circuit.barrier()\n",
    "\n",
    "\n",
    "    print(f'{device_measured_value=}')\n",
    "\n",
    "    ######### PENDING ####################\n",
    "    # reorder the reflected (CTRL) qubits\n",
    "\n",
    "    ###################################\n",
    "\n",
    "    # measurement of reflected qubits by control centre\n",
    "\n",
    "    for idx in ctrl_qubits:\n",
    "        if cc_basis[idx] == 1:\n",
    "            circuit.h(idx)\n",
    "        circuit.measure(idx, idx)\n",
    "\n",
    "    result_ctrl = execute(circuit, backend=simulator, shots=1).result()\n",
    "    count_ctrl = result_ctrl.get_counts(circuit)\n",
    "\n",
    "    ctrl_measured_value = list(count_ctrl.keys())[0][::-1]\n",
    "\n",
    "    print(f'{ctrl_measured_value=}')\n",
    "\n",
    "    # calculating error for ctrl\n",
    "\n",
    "    z_error_ctrl = 0\n",
    "    x_error_ctrl = 0\n",
    "    len_z = 0\n",
    "    len_x = 0\n",
    "\n",
    "    for idx in ctrl_qubits:\n",
    "        if cc_basis[idx] == 0:\n",
    "            if message[idx] != int(ctrl_measured_value[idx]):\n",
    "                print(\"z\")\n",
    "                print(idx)\n",
    "                z_error_ctrl += 1\n",
    "            len_z += 1\n",
    "        elif cc_basis[idx] == 1:\n",
    "            if message[idx] != int(ctrl_measured_value[idx]):\n",
    "                print(\"x\")\n",
    "                print(idx)\n",
    "                x_error_ctrl += 1\n",
    "            len_x += 1\n",
    "\n",
    "    print(f'{z_error_ctrl/len_z=}')\n",
    "    print(f'{x_error_ctrl/len_x=}')\n",
    "\n",
    "    if z_error_ctrl/len_z < p_ctrl and x_error_ctrl/len_x < p_ctrl:\n",
    "\n",
    "        # select n random sift bits in z basis as test bits\n",
    "\n",
    "        test_bits = set()\n",
    "        while len(test_bits) < n:\n",
    "            test_bits = set(np.random.choice(z_sift, size=n))\n",
    "        \n",
    "        print(f'{test_bits=}')\n",
    "\n",
    "        # defining remaning string\n",
    "\n",
    "        v = []\n",
    "\n",
    "        for idx in z_sift:\n",
    "            if idx not in test_bits:\n",
    "                v.append(idx)\n",
    "\n",
    "        print(f'{v=}')\n",
    "        # calculating z error for sift\n",
    "\n",
    "        z_error_test = 0\n",
    "\n",
    "        for idx in test_bits:\n",
    "            if int(device_measured_value[idx]) != int(ctrl_measured_value[idx]):\n",
    "                z_error_test += 1\n",
    "\n",
    "        print(f'{z_error_test/len(test_bits)=}')\n",
    "\n",
    "        if z_error_test/len(test_bits) < p_test and len(v) >= n:\n",
    "\n",
    "            info_bits = v[:n]\n",
    "\n",
    "            info = \"\"\n",
    "\n",
    "            for idx in info_bits:\n",
    "                info += device_measured_value[idx]\n",
    "\n",
    "            print(f'{info=}')\n",
    "\n",
    "            # Apply hash to function to info\n",
    "            sk = hashlib.sha512(info.encode('utf-8')).hexdigest()\n",
    "\n",
    "            print(f'{sk=}')\n",
    "\n",
    "            ######## SAVE IN FILE ###############\n",
    "\n",
    "            # Generate Identity\n",
    "\n",
    "            temp_Ix = np.random.randint(2, size=n)\n",
    "\n",
    "            Ix = \"\"\n",
    "\n",
    "            for i in range(len(temp_Ix)):\n",
    "                Ix += str(temp_Ix[i])\n",
    "\n",
    "            if device == \"SM\":\n",
    "                if addNewSM(devicename, Ix, info):\n",
    "                    return True\n",
    "            if device == \"NAN\":\n",
    "                if addNewNAN(devicename, Ix, info):\n",
    "                    return True\n",
    "\n",
    "    print(\"SQKD FAILED\")\n",
    "    return False"
   ]
  },
  {
   "cell_type": "markdown",
   "metadata": {},
   "source": [
    "## Phase 2"
   ]
  },
  {
   "cell_type": "markdown",
   "metadata": {},
   "source": [
    "Function to generate PreAuthReqSM"
   ]
  },
  {
   "cell_type": "code",
   "execution_count": 16,
   "metadata": {},
   "outputs": [],
   "source": [
    "def genPreAuthReqSM(SMname):\n",
    "    '''\n",
    "    SMname(str): name of smart meter\n",
    "    '''\n",
    "\n",
    "    [Ism, Iencsm, SharedKey, _SMName] = getSM(SMname)\n",
    "\n",
    "    if Ism != None and Iencsm != None and SharedKey != None:\n",
    "        PreAuthReqSM = {\n",
    "            \"HMAC\": hmac.new(SharedKey.encode(\"utf-8\"), Iencsm.encode(\"utf-8\"), hashlib.sha256).hexdigest(),\n",
    "            \"Iencsm\": Iencsm,\n",
    "            \"TS\": time.time(),\n",
    "            \"SharedKey\": SharedKey\n",
    "        }\n",
    "        return PreAuthReqSM\n",
    "    print(\"Failed to create PreAuthReqSM\")\n",
    "    return None"
   ]
  },
  {
   "cell_type": "markdown",
   "metadata": {},
   "source": [
    "Function to generate PreAuthReqNAN"
   ]
  },
  {
   "cell_type": "code",
   "execution_count": 17,
   "metadata": {},
   "outputs": [],
   "source": [
    "def genPreAuthReqNAN(SMname, NANname):\n",
    "    '''\n",
    "    SMname(str): name of smart meter\n",
    "    NANname(str): name of NAN gateway\n",
    "    '''\n",
    "\n",
    "    PreAuthReqSM = genPreAuthReqSM(SMname)\n",
    "    [Inan,  SharedKey, _NANname] = getNAN(NANname)\n",
    "\n",
    "    if Inan != None and SharedKey != None and PreAuthReqSM != None:\n",
    "        PreAuthReqNAN = {\n",
    "            \"PreAuthReqSM\": PreAuthReqSM,\n",
    "            \"HMAC\": hmac.new(SharedKey.encode(\"utf-8\"), Inan.encode(\"utf-8\"), hashlib.sha256).hexdigest(),\n",
    "            \"Inan\": Inan,\n",
    "            \"TS\": time.time(),\n",
    "            \"SharedKey\": SharedKey\n",
    "        }\n",
    "        return PreAuthReqNAN\n",
    "    print(\"Failed to create PreAuthReqNAN\")\n",
    "    return None"
   ]
  },
  {
   "cell_type": "markdown",
   "metadata": {},
   "source": [
    "Semi-Quantum Mutual Identity Authentication Using Bell States"
   ]
  },
  {
   "cell_type": "markdown",
   "metadata": {},
   "source": [
    "$$ |\\varphi^{\\pm}> = \\frac{1}{\\sqrt{2}}(|00>\\pm|11>) (0, 1)$$\n",
    "$$ |\\phi^{\\pm}> = \\frac{1}{\\sqrt{2}}(|01>\\pm|10>) (2, 3)$$"
   ]
  },
  {
   "cell_type": "markdown",
   "metadata": {},
   "source": [
    "Functon to create bell states for authentication"
   ]
  },
  {
   "cell_type": "code",
   "execution_count": 18,
   "metadata": {},
   "outputs": [],
   "source": [
    "def createBellStates(state_number, qubit1, qubit2, circuit):\n",
    "    '''\n",
    "    state_number (int): bell state based on above cell\n",
    "    qubit1 (int), qubit2 (int): indices of entangled qubits\n",
    "    circuit (QuantumCircuit): circuit under consideration\n",
    "\n",
    "    return QuantumCircuit: updated quantum circuit\n",
    "    '''\n",
    "    if state_number == 0:\n",
    "        pass\n",
    "    elif state_number == 1:\n",
    "        circuit.x(qubit1)\n",
    "    elif state_number == 2:\n",
    "        circuit.x(qubit2)\n",
    "    elif state_number == 3:\n",
    "        circuit.x(qubit1)\n",
    "        circuit.x(qubit2)\n",
    "    circuit.h(qubit1)\n",
    "    circuit.cnot(qubit1, qubit2)\n",
    "    return circuit"
   ]
  },
  {
   "cell_type": "markdown",
   "metadata": {},
   "source": [
    "Function to create decoy qubits based on secret key"
   ]
  },
  {
   "cell_type": "code",
   "execution_count": 19,
   "metadata": {},
   "outputs": [],
   "source": [
    "def createDecoyQubits(key, bit, idx, circuit):\n",
    "    '''\n",
    "    key (str): securely shared key\n",
    "    bit (int): 0 or 1\n",
    "    idx (int): index of the decoy bit\n",
    "    circuit (QuantumCircuit): circuit under consideration\n",
    "\n",
    "    return QuantumCircuit: updated quantum circuit\n",
    "    '''\n",
    "    if bit:\n",
    "        circuit.x(idx)\n",
    "    if key[2*idx:2*idx+2] in {\"10\", \"11\"}:\n",
    "        circuit.h(idx)\n",
    "    return circuit"
   ]
  },
  {
   "cell_type": "markdown",
   "metadata": {},
   "source": [
    "Function for semi quantum authentication"
   ]
  },
  {
   "cell_type": "code",
   "execution_count": 1,
   "metadata": {},
   "outputs": [],
   "source": [
    "def sq_auth(key):\n",
    "    '''\n",
    "    key (string): key of the device to be authenticated\n",
    "\n",
    "    return (bool bool): (is classical entity legal, is quantum entity legal)\n",
    "    '''\n",
    "\n",
    "    print(f'{key=}')\n",
    "\n",
    "    n_prime = n//2  # since size of the key in paper is 2*n\n",
    "    # we define n' as 2*n' = n\n",
    "\n",
    "    # STEP 1: Preparation\n",
    "\n",
    "    circuit = QuantumCircuit(n_prime*2, n_prime*2)\n",
    "\n",
    "    # Even bits = S_H\n",
    "    # Odd bits = S_T\n",
    "\n",
    "    initial_bell_state_number = list(np.random.randint(0, 4, size=(n_prime)))\n",
    "    print(f'{initial_bell_state_number=}')\n",
    "\n",
    "    # n_prime*2 for n bell states\n",
    "\n",
    "    # generating random n' bell states\n",
    "    for i in range(n_prime):\n",
    "        circuit = createBellStates(initial_bell_state_number[i], 2*i, 2*i+1, circuit)\n",
    "\n",
    "    # STEP 2: Eavesdropping detection\n",
    "\n",
    "    ## generating n'/2 decoy qubits\n",
    "\n",
    "    decoy_circuit = QuantumCircuit(n_prime//2, n_prime//2)\n",
    "\n",
    "    decoy_init = np.random.randint(0, 2, size=(n_prime//2))\n",
    "\n",
    "    print(f'{decoy_init=}')\n",
    "\n",
    "    for i in range(n_prime//2):\n",
    "        decoy_circuit = createDecoyQubits(key, decoy_init[i], i, decoy_circuit)\n",
    "\n",
    "    ###### Pending ######\n",
    "    # reordering\n",
    "    #####################\n",
    "\n",
    "    for i in range(n_prime//2):\n",
    "        if key[2*i:2*i+2] in {\"10\", \"11\"}:\n",
    "            decoy_circuit.h(i)\n",
    "        decoy_circuit.measure(i, i)\n",
    "    \n",
    "    decoy_result = execute(decoy_circuit, backend=simulator, shots=1).result()\n",
    "    decoy_count = decoy_result.get_counts(decoy_circuit)\n",
    "    decoy_measured_values = [int(b) for b in list(decoy_count.keys())[0][::-1]]\n",
    "\n",
    "    print(f'{decoy_measured_values=}')\n",
    "\n",
    "    for i in range(n_prime//2):\n",
    "        if decoy_measured_values[i] != decoy_init[i]:\n",
    "            print(\"AUTH FAILED\")\n",
    "            return (False, False)\n",
    "\n",
    "    # STEP 3: Measurement\n",
    "\n",
    "    for i in range(n_prime*2):\n",
    "        circuit.measure(i, i)\n",
    "\n",
    "    result = execute(circuit, backend=simulator, shots=1).result()\n",
    "    count = result.get_counts(circuit)\n",
    "    measured_values = [int(b) for b in list(count.keys())[0][::-1]]\n",
    "\n",
    "    # STEP 4: XOR operation\n",
    "\n",
    "    ## Create RB\n",
    "\n",
    "    RB = []\n",
    "\n",
    "    for i in range(1, n, 2):\n",
    "        RB.append(measured_values[i])\n",
    "    print(f'{RB=}')\n",
    "    \n",
    "    ## Create IA\n",
    "\n",
    "    RA = []\n",
    "\n",
    "    for i in range(0, n, 2):\n",
    "        RA.append(measured_values[i])\n",
    "    print(f'{RA=}')\n",
    "\n",
    "    ## Create RA*\n",
    "\n",
    "    RAstar = []\n",
    "\n",
    "    for i in range(n_prime):\n",
    "        if RB[i] == 0:\n",
    "            if initial_bell_state_number[i] in {0, 1}:\n",
    "                RAstar.append(0)\n",
    "            else:\n",
    "                RAstar.append(1)\n",
    "        elif RB[i] == 1:\n",
    "            if initial_bell_state_number[i]  in {0, 1}:\n",
    "                RAstar.append(1)\n",
    "            else:\n",
    "                RAstar.append(0)\n",
    "    print(f'{RAstar=}')\n",
    "\n",
    "\n",
    "    ## Create RB*\n",
    "\n",
    "    RBstar = []\n",
    "\n",
    "    for i in range(n_prime):\n",
    "        if RA[i] == 0:\n",
    "            if initial_bell_state_number[i]  in {0, 1}:\n",
    "                RBstar.append(0)\n",
    "            else:\n",
    "                RBstar.append(1)\n",
    "        elif RA[i] == 1:\n",
    "            if initial_bell_state_number[i]  in {0, 1}:\n",
    "                RBstar.append(1)\n",
    "            else:\n",
    "                RBstar.append(0)\n",
    "    print(f'{RBstar=}')\n",
    "\n",
    "    ## Create IA, IAstar, IB, IBstar\n",
    "    IA = []\n",
    "    IB = []\n",
    "    IAstar = []\n",
    "    IBstar = []\n",
    "\n",
    "    for i in range(n_prime):\n",
    "        IA.append(RA[i]^int(key[i]))\n",
    "        IB.append(RB[i]^int(key[i]))\n",
    "        IAstar.append(RAstar[i]^int(key[i]))\n",
    "        IBstar.append(RBstar[i]^int(key[i]))\n",
    "\n",
    "    print(f'{IA=}')\n",
    "    print(f'{IB=}')\n",
    "    print(f'{IAstar=}')\n",
    "    print(f'{IBstar=}')\n",
    "\n",
    "    # STEP 5: Authentication\n",
    "\n",
    "    classical_auth, quantum_auth = 1, 1\n",
    "\n",
    "    for i in range(n_prime):\n",
    "        if IA[i] != IAstar[i]:\n",
    "            quantum_auth = 0\n",
    "        if IB[i] != IBstar[i]:\n",
    "            classical_auth = 0\n",
    "    \n",
    "    print(f'{measured_values=}')\n",
    "\n",
    "    # print(circuit.draw())\n",
    "    # print(decoy_circuit.draw())\n",
    "\n",
    "    print(f'{(classical_auth, quantum_auth)=}')\n",
    "\n",
    "    return (classical_auth, quantum_auth)"
   ]
  },
  {
   "cell_type": "markdown",
   "metadata": {},
   "source": [
    "Function for comparing HMAC of NAN"
   ]
  },
  {
   "cell_type": "code",
   "execution_count": null,
   "metadata": {},
   "outputs": [],
   "source": [
    "def verifyNANHMAC(hmacValue, NANname):\n",
    "    '''\n",
    "    hmacValue (string): value of hmac\n",
    "    NANname (string): name of NAN to be verified\n",
    "    '''\n",
    "    _Inan, _SharedKey, _NANname = getNAN(NANname)\n",
    "    if _SharedKey != None and _Inan != None:\n",
    "        return hmac.new(_SharedKey.encode(\"utf-8\"), _Inan.encode(\"utf-8\"), hashlib.sha256).hexdigest() == hmacValue\n",
    "    print(\"Verify NAN HMAC Failed\")\n",
    "    return False"
   ]
  },
  {
   "cell_type": "markdown",
   "metadata": {},
   "source": [
    "Function for comparing HMAC of SM"
   ]
  },
  {
   "cell_type": "code",
   "execution_count": null,
   "metadata": {},
   "outputs": [],
   "source": [
    "def verifySMHMAC(hmacValue, SMname):\n",
    "    '''\n",
    "    hmacValue (string): value of hmac\n",
    "    SMname (string): name of SM to be verified\n",
    "    '''\n",
    "    _Ism, _Iencsm, _SharedKey, _SMName = getSM(SMname)\n",
    "    if _SharedKey != None and _Iencsm != None:\n",
    "        return hmac.new(_SharedKey.encode(\"utf-8\"), _Iencsm.encode(\"utf-8\"), hashlib.sha256).hexdigest() == hmacValue\n",
    "    print(\"Verify SM HMAC Failed\")\n",
    "    return False"
   ]
  },
  {
   "cell_type": "markdown",
   "metadata": {},
   "source": [
    "Function for authenticating SM"
   ]
  },
  {
   "cell_type": "code",
   "execution_count": 21,
   "metadata": {},
   "outputs": [],
   "source": [
    "def authSM(sm, nan):\n",
    "    '''\n",
    "    sm (string): name of smart meter to be authenticated\n",
    "    nan (string): name of parent NAN gateway\n",
    "    '''\n",
    "\n",
    "    # getting PreAuthReq Payloads\n",
    "    PreAuthReqNAN = genPreAuthReqNAN(sm, nan)\n",
    "    PreAuthReqSM = PreAuthReqNAN[\"PreAuthReqSM\"]\n",
    "    \n",
    "    # verifying HMAC of NAN\n",
    "\n",
    "    if verifyNANHMAC(PreAuthReqNAN[\"SharedKey\"], nan):\n",
    "\n",
    "        # authenticating NAN gateway\n",
    "        cc_auth, nan_auth = sq_auth(PreAuthReqNAN[\"SharedKey\"])\n",
    "        \n",
    "        print(f'{cc_auth=}:{nan_auth=}')\n",
    "\n",
    "        if cc_auth and nan_auth:\n",
    "            \n",
    "            # verifying HMAC of sm\n",
    "\n",
    "            if verifySMHMAC(PreAuthReqSM[\"SharedKey\"], sm):\n",
    "\n",
    "                # authenticating SM\n",
    "\n",
    "                cc_auth, sm_auth = sq_auth(PreAuthReqSM[\"SharedKey\"])\n",
    "\n",
    "                print(f'{cc_auth=}:{sm_auth=}')\n",
    "\n",
    "                return cc_auth and sm_auth\n",
    "\n",
    "    print(\"Auth failed\")\n",
    "    return False"
   ]
  },
  {
   "cell_type": "markdown",
   "metadata": {},
   "source": [
    "## Phase 4"
   ]
  },
  {
   "cell_type": "markdown",
   "metadata": {},
   "source": []
  },
  {
   "cell_type": "markdown",
   "metadata": {},
   "source": [
    "## Menu based cell"
   ]
  },
  {
   "cell_type": "code",
   "execution_count": 34,
   "metadata": {},
   "outputs": [
    {
     "name": "stdout",
     "output_type": "stream",
     "text": [
      "0. Exit\n",
      "1. Add NAN\n",
      "2. Add SM\n",
      "3. Auth SM\n"
     ]
    },
    {
     "ename": "ValueError",
     "evalue": "invalid literal for int() with base 10: ''",
     "output_type": "error",
     "traceback": [
      "\u001b[1;31m---------------------------------------------------------------------------\u001b[0m",
      "\u001b[1;31mValueError\u001b[0m                                Traceback (most recent call last)",
      "\u001b[1;32me:\\Qintern\\Implementation\\main.ipynb Cell 38\u001b[0m line \u001b[0;36m8\n\u001b[0;32m      <a href='vscode-notebook-cell:/e%3A/Qintern/Implementation/main.ipynb#X53sZmlsZQ%3D%3D?line=5'>6</a>\u001b[0m \u001b[39mprint\u001b[39m(\u001b[39m\"\u001b[39m\u001b[39m2. Add SM\u001b[39m\u001b[39m\"\u001b[39m)\n\u001b[0;32m      <a href='vscode-notebook-cell:/e%3A/Qintern/Implementation/main.ipynb#X53sZmlsZQ%3D%3D?line=6'>7</a>\u001b[0m \u001b[39mprint\u001b[39m(\u001b[39m\"\u001b[39m\u001b[39m3. Auth SM\u001b[39m\u001b[39m\"\u001b[39m)\n\u001b[1;32m----> <a href='vscode-notebook-cell:/e%3A/Qintern/Implementation/main.ipynb#X53sZmlsZQ%3D%3D?line=7'>8</a>\u001b[0m c \u001b[39m=\u001b[39m \u001b[39mint\u001b[39;49m(\u001b[39minput\u001b[39;49m(\u001b[39m\"\u001b[39;49m\u001b[39mEnter your choice: \u001b[39;49m\u001b[39m\"\u001b[39;49m))\n\u001b[0;32m     <a href='vscode-notebook-cell:/e%3A/Qintern/Implementation/main.ipynb#X53sZmlsZQ%3D%3D?line=9'>10</a>\u001b[0m \u001b[39mif\u001b[39;00m c \u001b[39m==\u001b[39m \u001b[39m1\u001b[39m:\n\u001b[0;32m     <a href='vscode-notebook-cell:/e%3A/Qintern/Implementation/main.ipynb#X53sZmlsZQ%3D%3D?line=10'>11</a>\u001b[0m     nanname \u001b[39m=\u001b[39m \u001b[39minput\u001b[39m(\u001b[39m\"\u001b[39m\u001b[39mEnter name of NAN gateway\u001b[39m\u001b[39m\"\u001b[39m)\n",
      "\u001b[1;31mValueError\u001b[0m: invalid literal for int() with base 10: ''"
     ]
    }
   ],
   "source": [
    "c = None\n",
    "\n",
    "while c != 0:\n",
    "    print(\"0. Exit\")\n",
    "    print(\"1. Add NAN\")\n",
    "    print(\"2. Add SM\")\n",
    "    print(\"3. Auth SM\")\n",
    "    c = int(input(\"Enter your choice: \"))\n",
    "\n",
    "    if c == 1:\n",
    "        nanname = input(\"Enter name of NAN gateway\")\n",
    "        print(sqkd(\"NAN\",nanname))\n",
    "    if c == 2:\n",
    "        smname = input(\"Enter name of Smart Meter\")\n",
    "        print(sqkd(\"SM\",smname))\n",
    "    if c == 3:\n",
    "        nanname = input(\"Enter name of NAN gateway\")\n",
    "        smname = input(\"Enter name of Smart Meter\")\n",
    "        print(authSM(\"sm1\",\"nan1\"))"
   ]
  },
  {
   "cell_type": "markdown",
   "metadata": {},
   "source": [
    "## Test cells"
   ]
  },
  {
   "cell_type": "code",
   "execution_count": 28,
   "metadata": {},
   "outputs": [
    {
     "name": "stdout",
     "output_type": "stream",
     "text": [
      "message=array([0, 1, 1, 1, 0, 0, 1, 0, 0, 1, 0, 1, 0, 1, 1, 0, 0, 1, 1, 1, 1, 1,\n",
      "       0, 0, 1, 1, 1, 0, 0, 1, 0, 0, 1, 1, 1, 0])\n",
      "cc_basis=array([1, 1, 1, 0, 1, 1, 1, 0, 1, 0, 1, 0, 1, 0, 0, 0, 0, 1, 0, 0, 1, 1,\n",
      "       1, 1, 0, 0, 1, 1, 1, 1, 1, 1, 1, 0, 1, 1])\n",
      "device_decisions=array([0, 1, 1, 1, 1, 1, 1, 1, 1, 0, 0, 1, 1, 1, 1, 1, 1, 0, 1, 1, 0, 1,\n",
      "       0, 1, 1, 1, 1, 1, 1, 1, 0, 0, 1, 0, 1, 1])\n",
      "ctrl_qubits=[0, 9, 10, 17, 20, 22, 30, 31, 33]\n",
      "sift_qubits=[1, 2, 3, 4, 5, 6, 7, 8, 11, 12, 13, 14, 15, 16, 18, 19, 21, 23, 24, 25, 26, 27, 28, 29, 32, 34, 35]\n",
      "z_sift=[3, 7, 11, 13, 14, 15, 16, 18, 19, 24, 25]\n",
      "device_measured_value='010100000001111000110101111010000001'\n",
      "ctrl_measured_value='001100100101011001111101111000000100'\n",
      "z_error_ctrl/len_z=0.0\n",
      "x_error_ctrl/len_x=0.0\n",
      "test_bits={24, 25, 18, 19}\n",
      "v=[3, 7, 11, 13, 14, 15, 16]\n",
      "z_error_test/len(test_bits)=0.0\n",
      "info='1011'\n",
      "sk='f97307bf4bdda694ab76060195e90930a91fc333685d50316027969397e387174354a8ce64d3e1443eda41a7d0634cf7f2923171edb6cc0c598b7efd4072aa63'\n",
      "True\n",
      "message=array([1, 0, 1, 0, 0, 0, 0, 1, 1, 1, 1, 1, 0, 1, 1, 1, 0, 1, 1, 1, 1, 1,\n",
      "       1, 0, 0, 1, 0, 0, 0, 0, 1, 0, 1, 1, 1, 1])\n",
      "cc_basis=array([0, 1, 0, 0, 1, 1, 1, 1, 0, 1, 1, 0, 0, 0, 1, 0, 1, 0, 0, 1, 0, 1,\n",
      "       1, 0, 0, 0, 0, 0, 1, 1, 0, 0, 0, 1, 0, 1])\n",
      "device_decisions=array([0, 1, 0, 1, 0, 0, 0, 1, 1, 0, 1, 1, 1, 0, 0, 1, 1, 0, 0, 0, 1, 0,\n",
      "       1, 1, 0, 0, 1, 1, 1, 0, 1, 1, 1, 0, 0, 1])\n",
      "ctrl_qubits=[0, 2, 4, 5, 6, 9, 13, 14, 17, 18, 19, 21, 24, 25, 29, 33, 34]\n",
      "sift_qubits=[1, 3, 7, 8, 10, 11, 12, 15, 16, 20, 22, 23, 26, 27, 28, 30, 31, 32, 35]\n",
      "z_sift=[3, 8, 11, 12, 15, 20, 23, 26, 27, 30, 31, 32]\n",
      "device_measured_value='010000001001000100001000000000101001'\n",
      "ctrl_measured_value='111000001101011101111110010000101111'\n",
      "z_error_ctrl/len_z=0.0\n",
      "x_error_ctrl/len_x=0.0\n",
      "test_bits={11, 32, 3, 12}\n",
      "v=[8, 15, 20, 23, 26, 27, 30, 31]\n",
      "z_error_test/len(test_bits)=0.0\n",
      "info='1110'\n",
      "sk='3cd247d38a712ae754cf58787db34da6304a8826e41d582b7cec981dda7f6a7444e08cb02f85f600d5def36cd472ff7ac790304a78a26e0608443f2baf173e97'\n",
      "True\n"
     ]
    }
   ],
   "source": [
    "print(sqkd(\"SM\",\"sm1\"))\n",
    "print(sqkd(\"NAN\",\"nan1\"))"
   ]
  },
  {
   "cell_type": "code",
   "execution_count": 24,
   "metadata": {},
   "outputs": [],
   "source": [
    "# print(json.dumps(genPreAuthReqNAN(\"sm1\",\"nan1\"), indent=10))"
   ]
  },
  {
   "cell_type": "code",
   "execution_count": 30,
   "metadata": {},
   "outputs": [],
   "source": [
    "# print(authSM(\"sm1\",\"nan1\"))"
   ]
  }
 ],
 "metadata": {
  "kernelspec": {
   "display_name": ".venv",
   "language": "python",
   "name": "python3"
  },
  "language_info": {
   "codemirror_mode": {
    "name": "ipython",
    "version": 3
   },
   "file_extension": ".py",
   "mimetype": "text/x-python",
   "name": "python",
   "nbconvert_exporter": "python",
   "pygments_lexer": "ipython3",
   "version": "3.9.13"
  },
  "orig_nbformat": 4
 },
 "nbformat": 4,
 "nbformat_minor": 2
}
